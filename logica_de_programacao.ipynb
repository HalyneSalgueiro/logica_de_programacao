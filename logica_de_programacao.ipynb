{
  "nbformat": 4,
  "nbformat_minor": 0,
  "metadata": {
    "colab": {
      "name": "logica_de_programacao.ipynb",
      "provenance": [],
      "authorship_tag": "ABX9TyNwAAf086+G1vupZX7Rp+qh"
    },
    "kernelspec": {
      "name": "python3",
      "display_name": "Python 3"
    },
    "language_info": {
      "name": "python"
    }
  },
  "cells": [
    {
      "cell_type": "markdown",
      "source": [
        ""
      ],
      "metadata": {
        "id": "wzs2H4ycvNwU"
      }
    },
    {
      "cell_type": "markdown",
      "source": [
        "## Lógica de programação com Python"
      ],
      "metadata": {
        "id": "r6Mm-uezvTJO"
      }
    },
    {
      "cell_type": "code",
      "source": [
        "1+1"
      ],
      "metadata": {
        "id": "L9qKVe7Nu2HV",
        "outputId": "86470ec8-e640-46b9-e7fa-30d69fea4724",
        "colab": {
          "base_uri": "https://localhost:8080/"
        }
      },
      "execution_count": 12,
      "outputs": [
        {
          "output_type": "execute_result",
          "data": {
            "text/plain": [
              "2"
            ]
          },
          "metadata": {},
          "execution_count": 12
        }
      ]
    },
    {
      "cell_type": "code",
      "source": [
        "\"Halyne\""
      ],
      "metadata": {
        "id": "ZQSGHc8yvi-3",
        "outputId": "60c9d82c-c81f-4f7b-f300-d5a8a0064193",
        "colab": {
          "base_uri": "https://localhost:8080/",
          "height": 36
        }
      },
      "execution_count": 3,
      "outputs": [
        {
          "output_type": "execute_result",
          "data": {
            "text/plain": [
              "'Halyne'"
            ],
            "application/vnd.google.colaboratory.intrinsic+json": {
              "type": "string"
            }
          },
          "metadata": {},
          "execution_count": 3
        }
      ]
    },
    {
      "cell_type": "code",
      "source": [
        "'Halyne'"
      ],
      "metadata": {
        "id": "WKSfRPUHvvwW",
        "outputId": "ddc9e0f9-8c5d-4798-c93b-4b904b162697",
        "colab": {
          "base_uri": "https://localhost:8080/",
          "height": 36
        }
      },
      "execution_count": 4,
      "outputs": [
        {
          "output_type": "execute_result",
          "data": {
            "text/plain": [
              "'Halyne'"
            ],
            "application/vnd.google.colaboratory.intrinsic+json": {
              "type": "string"
            }
          },
          "metadata": {},
          "execution_count": 4
        }
      ]
    },
    {
      "cell_type": "code",
      "source": [
        "nome = 'Halyne'"
      ],
      "metadata": {
        "id": "Cam_M3k2v4bu"
      },
      "execution_count": 5,
      "outputs": []
    },
    {
      "cell_type": "code",
      "source": [
        "nome"
      ],
      "metadata": {
        "id": "mbvF_2vxwGmV",
        "outputId": "6b5cc141-fed2-47e4-a804-2d9aeaab84cc",
        "colab": {
          "base_uri": "https://localhost:8080/",
          "height": 36
        }
      },
      "execution_count": 6,
      "outputs": [
        {
          "output_type": "execute_result",
          "data": {
            "text/plain": [
              "'Halyne'"
            ],
            "application/vnd.google.colaboratory.intrinsic+json": {
              "type": "string"
            }
          },
          "metadata": {},
          "execution_count": 6
        }
      ]
    },
    {
      "cell_type": "code",
      "source": [
        "idade = 38"
      ],
      "metadata": {
        "id": "Znp9filiwVe0"
      },
      "execution_count": 7,
      "outputs": []
    },
    {
      "cell_type": "code",
      "source": [
        "idade"
      ],
      "metadata": {
        "id": "XDSZhCibwaRE",
        "outputId": "3c6cadad-f654-4e4d-de23-d4b53c8ae539",
        "colab": {
          "base_uri": "https://localhost:8080/"
        }
      },
      "execution_count": 8,
      "outputs": [
        {
          "output_type": "execute_result",
          "data": {
            "text/plain": [
              "38"
            ]
          },
          "metadata": {},
          "execution_count": 8
        }
      ]
    },
    {
      "cell_type": "code",
      "source": [
        "print('O nome é Guilherme e sua idade é 28 anos')"
      ],
      "metadata": {
        "id": "kIEPvSqAwg-F",
        "outputId": "61813f9f-f5ee-41ce-b922-827fda9dd766",
        "colab": {
          "base_uri": "https://localhost:8080/"
        }
      },
      "execution_count": 9,
      "outputs": [
        {
          "output_type": "stream",
          "name": "stdout",
          "text": [
            "O nome é Guilherme e sua idade é 28 anos\n"
          ]
        }
      ]
    },
    {
      "cell_type": "code",
      "source": [
        "print(f'O nome é {nome} e sua idade é {idade} anos')"
      ],
      "metadata": {
        "id": "4kTa-JWRw4it",
        "outputId": "5fa77fe4-161e-4d32-a419-2b9a645b922e",
        "colab": {
          "base_uri": "https://localhost:8080/"
        }
      },
      "execution_count": 10,
      "outputs": [
        {
          "output_type": "stream",
          "name": "stdout",
          "text": [
            "O nome é Halyne e sua idade é 38 anos\n"
          ]
        }
      ]
    },
    {
      "cell_type": "code",
      "source": [
        "idade = 38"
      ],
      "metadata": {
        "id": "rfX6BHMtxNKQ"
      },
      "execution_count": 11,
      "outputs": []
    },
    {
      "cell_type": "code",
      "source": [
        ""
      ],
      "metadata": {
        "id": "UyhuFeDnxRQg"
      },
      "execution_count": null,
      "outputs": []
    },
    {
      "cell_type": "markdown",
      "source": [
        "# Criando minha primeira função"
      ],
      "metadata": {
        "id": "4X6GJqoXxe0L"
      }
    },
    {
      "cell_type": "code",
      "source": [
        ""
      ],
      "metadata": {
        "id": "y0bI5edKxijV"
      },
      "execution_count": null,
      "outputs": []
    },
    {
      "cell_type": "markdown",
      "source": [
        "Para chamar a função usamos a #def  "
      ],
      "metadata": {
        "id": "qxooXSSZyHmW"
      }
    },
    {
      "cell_type": "code",
      "source": [
        "def saudacao():\n",
        "  nome = input('Qual o seu nome? ')\n",
        "  print(f'Olá {nome}')"
      ],
      "metadata": {
        "id": "i--1zoyBzB6G"
      },
      "execution_count": 16,
      "outputs": []
    },
    {
      "cell_type": "code",
      "source": [
        "saudacao()\n"
      ],
      "metadata": {
        "id": "h97OnpS9zC3s",
        "outputId": "acef957f-7455-450a-daa6-fe6f55437858",
        "colab": {
          "base_uri": "https://localhost:8080/"
        }
      },
      "execution_count": 19,
      "outputs": [
        {
          "output_type": "stream",
          "name": "stdout",
          "text": [
            "Qual o seu nome? Davi\n",
            "Olá Davi\n"
          ]
        }
      ]
    },
    {
      "cell_type": "code",
      "source": [
        "saudacao()"
      ],
      "metadata": {
        "id": "X8glF69l3R3J",
        "outputId": "c836a464-2d89-4c71-d975-1151b35a1251",
        "colab": {
          "base_uri": "https://localhost:8080/"
        }
      },
      "execution_count": 20,
      "outputs": [
        {
          "output_type": "stream",
          "name": "stdout",
          "text": [
            "Qual o seu nome? Samuel\n",
            "Olá Samuel\n"
          ]
        }
      ]
    },
    {
      "cell_type": "markdown",
      "source": [
        "// Variável que contém um dado do tipo \"string\"\n",
        "var exemplo = 'Isso é um exemplo de uma variável com nome \"exemplo\".';\n",
        "exemplo = 'Agora a variável \"exemplo\" tem novo valor.';"
      ],
      "metadata": {
        "id": "kYZgaNWf3ocN"
      }
    },
    {
      "cell_type": "code",
      "source": [
        "def exemplo():\n",
        "  nome = input('Isso é um exemplo de uma variável' )\n",
        "  print(f'Agora a variável tem novo valor.')"
      ],
      "metadata": {
        "id": "rdMBr2DE3xGR"
      },
      "execution_count": 27,
      "outputs": []
    },
    {
      "cell_type": "code",
      "source": [
        "exemplo()"
      ],
      "metadata": {
        "id": "i5JuIi6k4-Qf",
        "outputId": "e8e86081-a716-4eac-c43d-571f4c6ebe83",
        "colab": {
          "base_uri": "https://localhost:8080/"
        }
      },
      "execution_count": 29,
      "outputs": [
        {
          "output_type": "stream",
          "name": "stdout",
          "text": [
            "Isso é um exemplo de uma variávelexemplo\n",
            "Agora a variável tem novo valor.\n"
          ]
        }
      ]
    },
    {
      "cell_type": "code",
      "source": [
        ""
      ],
      "metadata": {
        "id": "tZk14qxw5a_n"
      },
      "execution_count": 28,
      "outputs": []
    }
  ]
}